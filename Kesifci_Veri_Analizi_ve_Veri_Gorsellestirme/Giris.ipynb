{
 "cells": [
  {
   "cell_type": "markdown",
   "id": "b9837cde-d07a-42a5-bc18-9467ef96e7f1",
   "metadata": {},
   "source": [
    "# **Python ile Veri Görselleştirmeye Giriş**"
   ]
  },
  {
   "cell_type": "markdown",
   "id": "43e9073b-eb82-4f35-a211-6594673820ad",
   "metadata": {},
   "source": [
    "### Büyük Resmi Görmek ve Veriyi Temsil Etmek\n",
    "### Veriye ilk Bakış\n",
    "### Kategorik Değişken Özetleri\n",
    "### Sürekli Değişken Özetleri\n",
    "### Dağılım Grafikleri\n",
    "### Korelasyon Grafikleri\n",
    "### Çizgi Grafikler\n",
    "### Zaman Serisi Grafikleri"
   ]
  },
  {
   "cell_type": "markdown",
   "id": "31592b63-a22d-4c88-9367-93048748af1e",
   "metadata": {},
   "source": [
    "## **Bazı veri görselleştirme kütüphaneleri**"
   ]
  },
  {
   "cell_type": "markdown",
   "id": "a3f5131d-1e74-483d-9f2e-48fae10136f1",
   "metadata": {},
   "source": [
    "### Matplotlib\n",
    "### Pandas\n",
    "### Seaborn\n",
    "### ggplot\n",
    "### Bokeh\n",
    "### Plot.ly"
   ]
  }
 ],
 "metadata": {
  "kernelspec": {
   "display_name": "Python 3 (ipykernel)",
   "language": "python",
   "name": "python3"
  },
  "language_info": {
   "codemirror_mode": {
    "name": "ipython",
    "version": 3
   },
   "file_extension": ".py",
   "mimetype": "text/x-python",
   "name": "python",
   "nbconvert_exporter": "python",
   "pygments_lexer": "ipython3",
   "version": "3.9.13"
  }
 },
 "nbformat": 4,
 "nbformat_minor": 5
}
